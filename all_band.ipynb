{
 "cells": [
  {
   "cell_type": "markdown",
   "id": "393ca43d",
   "metadata": {
    "toc": true
   },
   "source": [
    "<h1>Table of Contents<span class=\"tocSkip\"></span></h1>\n",
    "<div class=\"toc\"><ul class=\"toc-item\"><li><span><a href=\"#새로-띄워진-창에서-로그인을-한다\" data-toc-modified-id=\"새로-띄워진-창에서-로그인을-한다-1\"><span class=\"toc-item-num\">1&nbsp;&nbsp;</span>새로 띄워진 창에서 로그인을 한다</a></span><ul class=\"toc-item\"><li><span><a href=\"#단어시험-함수\" data-toc-modified-id=\"단어시험-함수-1.1\"><span class=\"toc-item-num\">1.1&nbsp;&nbsp;</span>단어시험 함수</a></span></li><li><span><a href=\"#복습테스트-함수\" data-toc-modified-id=\"복습테스트-함수-1.2\"><span class=\"toc-item-num\">1.2&nbsp;&nbsp;</span>복습테스트 함수</a></span></li><li><span><a href=\"#pds-함수\" data-toc-modified-id=\"pds-함수-1.3\"><span class=\"toc-item-num\">1.3&nbsp;&nbsp;</span>pds 함수</a></span></li></ul></li></ul></div>"
   ]
  },
  {
   "cell_type": "code",
   "execution_count": 1,
   "id": "0c70febc",
   "metadata": {},
   "outputs": [],
   "source": [
    "from selenium import webdriver\n",
    "from selenium.webdriver.common.keys import Keys\n",
    "from selenium.webdriver.support.ui import WebDriverWait\n",
    "from selenium.webdriver.support import expected_conditions as EC\n",
    "from selenium.webdriver.common.by import By\n",
    "from bs4 import BeautifulSoup\n",
    "import pandas as pd\n",
    "from IPython.display import display\n",
    "import time\n",
    "import requests\n",
    "import re\n",
    "import glob\n",
    "import os\n",
    "\n",
    "\n",
    "\n",
    "driver = webdriver.Chrome('./chromedriver')\n",
    "driver.implicitly_wait(10)\n",
    "driver.get('https://nid.naver.com/oauth2.0/authorize?svctype=0&response_type=code&client_id=C9hwybENgOtF&state=IWK3A3NUJQVTFVU2KJPK2DRAZ6L7OXGBFYZHHTH3GMTTXKI6A6ALVCF6SFNE3OLHQ4JVWLE6HFC7Q===&redirect_url=https%3A%2F%2Fauth.band.us%2Fexternal_account_login%3Ftype%3Dnaver')\n"
   ]
  },
  {
   "cell_type": "markdown",
   "id": "2719a74b",
   "metadata": {},
   "source": [
    "# 새로 띄워진 창에서 로그인을 한다"
   ]
  },
  {
   "cell_type": "markdown",
   "id": "3e56d28b",
   "metadata": {},
   "source": [
    "## 단어시험 함수"
   ]
  },
  {
   "cell_type": "code",
   "execution_count": 39,
   "id": "6584b571",
   "metadata": {},
   "outputs": [],
   "source": [
    "def voca(nums):\n",
    "    \n",
    "    field = '단어시험'\n",
    "    \n",
    "    for class_id in list(class_dic.keys()):\n",
    "        \n",
    "        student_data = []\n",
    "        \n",
    "        for num in nums:\n",
    "           \n",
    "            tagnum = f'{num}회'\n",
    "            tag = f'{field}{tagnum}'\n",
    "\n",
    "            url = class_dic[class_id] + f'/hashtag/{tag}'\n",
    "            driver.get(url)\n",
    "            time.sleep(1)\n",
    "\n",
    "            try: \n",
    "                driver.find_element_by_class_name('commentToggle._commentToggleBtn').click()\n",
    "                time.sleep(1)\n",
    "\n",
    "                for _ in range(3):\n",
    "                    try:\n",
    "                        driver.find_element_by_class_name('prevComment').click()\n",
    "                        time.sleep(0.2)\n",
    "                    except :\n",
    "                        pass\n",
    "\n",
    "\n",
    "\n",
    "                html = driver.page_source\n",
    "                soup = BeautifulSoup(html, 'html.parser')\n",
    "                students = soup.select('.itemWrap')\n",
    "\n",
    "\n",
    "                for student in students :\n",
    "                    name = student.select('button > strong')[0].text\n",
    "                    if class_id == 'PURPLE':    # 퍼플은 반명을 한글로 적는 바람에 따로 해줘야 함 \n",
    "                        name = name[5:].strip() # 전부 다 이거로 하게 되면 띄어쓰기 없는 애들은 솔팅 안됨 \n",
    "                    try :\n",
    "                        score = student.select('p')[0].text #이거 되는지 마지막으로 확인할 것 \n",
    "                    except :\n",
    "                        score = \"\"\n",
    "\n",
    "                    student_data.append([class_id, field, tagnum, name, score])\n",
    "\n",
    "                print(len(student_data))\n",
    "            \n",
    "            except:\n",
    "                pass\n",
    "\n",
    "        columns = ['반명', '숙제이름', '회차', '이름', '점수']\n",
    "        student_list = pd.DataFrame(student_data, columns=columns)\n",
    "        student_list = student_list.drop_duplicates()\n",
    "        student_list['이름'] = student_list['이름'].str.extract(r'([가-힣].*)') # 한글로 시작하는 시점부터 뒤까지 전부 불러와라 \n",
    "        student_list.to_excel(f'{class_id}_{field}.xlsx', index=False)\n"
   ]
  },
  {
   "cell_type": "code",
   "execution_count": 37,
   "id": "46e2a893",
   "metadata": {},
   "outputs": [],
   "source": [
    "class_dic = {}\n",
    "# class_dic['PA3A'] = 'https://band.us/band/84576914'\n",
    "# class_dic['PB3A'] = 'https://band.us/band/84576918'\n",
    "# class_dic['PD3A'] = 'https://band.us/band/84576926'\n",
    "# class_dic['PJ3A'] = 'https://band.us/band/84576928'\n",
    "# class_dic['PURPLE'] = 'https://band.us/band/84570800'\n",
    "# class_dic['RED'] = 'https://band.us/band/84576846'\n",
    "# class_dic['PB7A'] = 'https://band.us/band/84600978'\n",
    "# class_dic['PD7A'] = 'https://band.us/band/84601004'"
   ]
  },
  {
   "cell_type": "code",
   "execution_count": 35,
   "id": "41858d5f",
   "metadata": {},
   "outputs": [
    {
     "name": "stdout",
     "output_type": "stream",
     "text": [
      "55\n",
      "109\n",
      "161\n",
      "211\n",
      "260\n",
      "309\n",
      "350\n",
      "390\n",
      "434\n",
      "477\n",
      "521\n",
      "557\n",
      "597\n"
     ]
    }
   ],
   "source": [
    "# 단어시험 \n",
    "nums = list(range(1, 14))\n",
    "voca(field, nums)"
   ]
  },
  {
   "cell_type": "code",
   "execution_count": null,
   "id": "30d6bb05",
   "metadata": {},
   "outputs": [],
   "source": []
  },
  {
   "cell_type": "markdown",
   "id": "b68417d5",
   "metadata": {},
   "source": [
    "## 복습테스트 함수"
   ]
  },
  {
   "cell_type": "code",
   "execution_count": null,
   "id": "89bf720a",
   "metadata": {},
   "outputs": [],
   "source": [
    "def re_test(tag):\n",
    "    \n",
    "    for class_id in list(class_dic.keys()):\n",
    "        url = class_dic[class_id] + f'/hashtag/{tag}'\n",
    "        driver.get(url)\n",
    "\n",
    "\n",
    "        # 밴드 이름 가져오기 \n",
    "        band_name = driver.find_element_by_class_name('uriText').text\n",
    "\n",
    "\n",
    "        # 퀴즈박스 클릭\n",
    "        driver.find_element_by_class_name('item.-quiz').click() \n",
    "\n",
    "\n",
    "        # 퀴즈명 가져오기 \n",
    "        quiz_name = driver.find_element_by_xpath('//*[@id=\"wrap\"]/div[3]/div/div/section/div[2]/div/section/div/div[3]/div[3]/div[4]/div/div/p[2]')\n",
    "        quiz_name = quiz_name.text.replace(\"~\", \"_\")\n",
    "\n",
    "\n",
    "        scroll = WebDriverWait(driver, 15).until(EC.presence_of_element_located((By.XPATH, '//*[@id=\"wrap\"]/div[3]/div/div/section')))\n",
    "        driver.execute_script(\"arguments[0].scrollBy(0,arguments[0].scrollHeight)\", scroll) # t스크롤\n",
    "\n",
    "        driver.find_element_by_class_name('button._btnOpenTakerList').click() # 응답자 보기 클릭\n",
    "        driver.find_element_by_class_name('btnMoreMenu._btnHeaderMoreMenu').click() # 점 3개 클릭\n",
    "        driver.find_element_by_class_name('btnMenuText._btnDownloadGradingResult').click() # 채점결과 다운로드 \n",
    "\n",
    "        time.sleep(2)\n",
    "\n",
    "\n",
    "        # 저장된 파일 불러오기 \n",
    "        add = f'C:/Users/hmkang/Downloads/{band_name}_채점결과_{quiz_name}_' + r'{}_{}.xlsx'\n",
    "        filename = glob.glob(add.format(\"*\", \"*\"))[0]\n",
    "        rere = pd.read_excel(filename, header=3)\n",
    "\n",
    "        # 멤버 및 점수만 뽑아내기 \n",
    "        rere['멤버'] = rere['멤버'].str.extract(r'([가-힣].*)')\n",
    "        rere = rere.dropna()\n",
    "        rere = rere[['멤버', '점수']]\n",
    "        return rere"
   ]
  },
  {
   "cell_type": "code",
   "execution_count": null,
   "id": "192cc37d",
   "metadata": {},
   "outputs": [],
   "source": [
    "tag = '온택트복습TEST'\n",
    "re_test(tag)"
   ]
  },
  {
   "cell_type": "markdown",
   "id": "2f4d0bf3",
   "metadata": {},
   "source": [
    "## pds 함수"
   ]
  },
  {
   "cell_type": "code",
   "execution_count": 40,
   "id": "579e7123",
   "metadata": {},
   "outputs": [],
   "source": [
    "def pds(nums):\n",
    "    \n",
    "    field = 'PDS복습'\n",
    "    \n",
    "    for class_id in list(class_dic.keys()):\n",
    "        \n",
    "        student_data = []\n",
    "        \n",
    "        for num in nums:\n",
    "            \n",
    "            tagnum = f'{num}차'\n",
    "\n",
    "            tag = f'{field}{tagnum}'\n",
    "\n",
    "            url = class_dic[class_id] + f'/hashtag/{tag}'\n",
    "            driver.get(url)\n",
    "            time.sleep(1)\n",
    "\n",
    "            try: \n",
    "                driver.find_element_by_class_name('commentToggle._commentToggleBtn').click()\n",
    "                time.sleep(2)\n",
    "\n",
    "                for _ in range(4):\n",
    "                    try:\n",
    "                        driver.find_element_by_class_name('prevComment').click()\n",
    "                        time.sleep(0.2)\n",
    "                    except :\n",
    "                        pass\n",
    "\n",
    "\n",
    "\n",
    "                html = driver.page_source\n",
    "                soup = BeautifulSoup(html, 'html.parser')\n",
    "                students = soup.select('.itemWrap')\n",
    "\n",
    "\n",
    "                for student in students :\n",
    "\n",
    "                    name = student.select('button > strong')[0].text\n",
    "                    if class_id == 'PURPLE':    # 퍼플은 반명을 한글로 적는 바람에 따로 해줘야 함 \n",
    "                        name = name[5:].strip() # 전부 다 이거로 하게 되면 띄어쓰기 없는 애들은 솔팅 안됨 \n",
    "                    score = 'O'\n",
    "\n",
    "                    student_data.append([class_id, field, tagnum, name, score])\n",
    "\n",
    "                print(len(student_data))\n",
    "            \n",
    "            except:\n",
    "                pass\n",
    "\n",
    "        columns = ['반명', '숙제이름', '회차', '이름', '점수']\n",
    "        student_list = pd.DataFrame(student_data, columns=columns)\n",
    "        student_list = student_list.drop_duplicates()\n",
    "        student_list['이름'] = student_list['이름'].str.extract(r'([가-힣].*)') # 한글로 시작하는 시점부터 뒤까지 전부 불러와라 \n",
    "        student_list.to_excel(f'{class_id}_{field}.xlsx', index=False)"
   ]
  },
  {
   "cell_type": "code",
   "execution_count": null,
   "id": "ac458d03",
   "metadata": {},
   "outputs": [],
   "source": [
    "nums = list(range(1, 14))\n",
    "pds(nums)"
   ]
  },
  {
   "cell_type": "code",
   "execution_count": null,
   "id": "cddc1780",
   "metadata": {},
   "outputs": [],
   "source": []
  },
  {
   "cell_type": "code",
   "execution_count": null,
   "id": "3cdf5367",
   "metadata": {},
   "outputs": [],
   "source": []
  },
  {
   "cell_type": "code",
   "execution_count": null,
   "id": "10194fc7",
   "metadata": {},
   "outputs": [],
   "source": []
  },
  {
   "cell_type": "code",
   "execution_count": null,
   "id": "54f1ffa6",
   "metadata": {},
   "outputs": [],
   "source": []
  },
  {
   "cell_type": "code",
   "execution_count": null,
   "id": "33d43ec7",
   "metadata": {},
   "outputs": [],
   "source": []
  },
  {
   "cell_type": "code",
   "execution_count": null,
   "id": "a06fda58",
   "metadata": {},
   "outputs": [],
   "source": []
  },
  {
   "cell_type": "code",
   "execution_count": null,
   "id": "686e39cd",
   "metadata": {},
   "outputs": [],
   "source": []
  },
  {
   "cell_type": "code",
   "execution_count": null,
   "id": "94480f9b",
   "metadata": {},
   "outputs": [],
   "source": []
  },
  {
   "cell_type": "code",
   "execution_count": null,
   "id": "144242ce",
   "metadata": {},
   "outputs": [],
   "source": []
  },
  {
   "cell_type": "code",
   "execution_count": null,
   "id": "eb4d7e33",
   "metadata": {},
   "outputs": [],
   "source": [
    "students"
   ]
  },
  {
   "cell_type": "code",
   "execution_count": null,
   "id": "a184619f",
   "metadata": {},
   "outputs": [],
   "source": []
  },
  {
   "cell_type": "code",
   "execution_count": null,
   "id": "317669e2",
   "metadata": {},
   "outputs": [],
   "source": [
    "html = driver.page_source\n",
    "soup = BeautifulSoup(html, 'html.parser')\n",
    "students = soup.select('.itemWrap')\n"
   ]
  },
  {
   "cell_type": "code",
   "execution_count": null,
   "id": "df077bb9",
   "metadata": {},
   "outputs": [],
   "source": [
    "data = []\n",
    "for student in students :\n",
    "    name = student.select('button > strong')[0].text\n",
    "    if class_id == 'PURPLE':\n",
    "        name = name[5:].strip()\n",
    "    try :\n",
    "        score = student.select('div.commentBody._commentModification > p')[0].text\n",
    "    except :\n",
    "        score =\"\"\n",
    "    data.append([name, score])\n",
    "data"
   ]
  },
  {
   "cell_type": "code",
   "execution_count": null,
   "id": "7c1e5e04",
   "metadata": {},
   "outputs": [],
   "source": [
    "students"
   ]
  },
  {
   "cell_type": "code",
   "execution_count": null,
   "id": "1a8df473",
   "metadata": {},
   "outputs": [],
   "source": []
  },
  {
   "cell_type": "code",
   "execution_count": null,
   "id": "35a26143",
   "metadata": {},
   "outputs": [],
   "source": []
  },
  {
   "cell_type": "code",
   "execution_count": null,
   "id": "268a5f74",
   "metadata": {},
   "outputs": [],
   "source": [
    "name = student.select('button > strong')[0].text\n",
    "name"
   ]
  },
  {
   "cell_type": "code",
   "execution_count": null,
   "id": "3c2e1858",
   "metadata": {},
   "outputs": [],
   "source": []
  },
  {
   "cell_type": "code",
   "execution_count": null,
   "id": "cbb9a872",
   "metadata": {},
   "outputs": [],
   "source": []
  },
  {
   "cell_type": "code",
   "execution_count": null,
   "id": "ff5bbe3e",
   "metadata": {},
   "outputs": [],
   "source": []
  },
  {
   "cell_type": "code",
   "execution_count": null,
   "id": "4f851ea2",
   "metadata": {},
   "outputs": [],
   "source": [
    "score = student.select('p')[0].text"
   ]
  },
  {
   "cell_type": "code",
   "execution_count": null,
   "id": "b677ea8f",
   "metadata": {},
   "outputs": [],
   "source": [
    "students"
   ]
  },
  {
   "cell_type": "code",
   "execution_count": null,
   "id": "5354377e",
   "metadata": {},
   "outputs": [],
   "source": [
    "a = driver.find_element_by_css_selector('div.itemWrap > div.writeInfo > button > strong')"
   ]
  },
  {
   "cell_type": "code",
   "execution_count": null,
   "id": "09c6eec0",
   "metadata": {},
   "outputs": [],
   "source": [
    "student"
   ]
  },
  {
   "cell_type": "code",
   "execution_count": null,
   "id": "d887a077",
   "metadata": {},
   "outputs": [],
   "source": []
  },
  {
   "cell_type": "code",
   "execution_count": null,
   "id": "d1f8497d",
   "metadata": {},
   "outputs": [],
   "source": []
  },
  {
   "cell_type": "code",
   "execution_count": null,
   "id": "583b991e",
   "metadata": {},
   "outputs": [],
   "source": []
  },
  {
   "cell_type": "code",
   "execution_count": null,
   "id": "6e33bf63",
   "metadata": {},
   "outputs": [],
   "source": [
    "html = driver.page_source\n",
    "soup = BeautifulSoup(html, 'html.parser')\n"
   ]
  },
  {
   "cell_type": "code",
   "execution_count": null,
   "id": "55c0978b",
   "metadata": {},
   "outputs": [],
   "source": []
  },
  {
   "cell_type": "code",
   "execution_count": null,
   "id": "d0054f9f",
   "metadata": {},
   "outputs": [],
   "source": []
  },
  {
   "cell_type": "code",
   "execution_count": null,
   "id": "a867ff49",
   "metadata": {},
   "outputs": [],
   "source": [
    "pds = soup.select('div.itemWrap > div.writeInfo > button')"
   ]
  },
  {
   "cell_type": "code",
   "execution_count": null,
   "id": "a23e5c03",
   "metadata": {},
   "outputs": [],
   "source": [
    "name_list = []\n",
    "# pds_n = input('태그를 입력하세요 :')\n",
    "pds_n = 'PDS복습34차'\n",
    "\n",
    "for name in pds: \n",
    "    who = name.text\n",
    "    who = who.replace('\\n', \"\")\n",
    "    where, who = who.split(\" \")\n",
    "    what = pds_n\n",
    "\n",
    "    name_list.append([what, where, who])\n",
    "\n",
    "    \n",
    "df = pd.DataFrame(name_list, columns=['숙제이름', '반명', '이름'])\n",
    "df"
   ]
  },
  {
   "cell_type": "code",
   "execution_count": null,
   "id": "5ac85563",
   "metadata": {},
   "outputs": [],
   "source": [
    "class_dic"
   ]
  },
  {
   "cell_type": "code",
   "execution_count": null,
   "id": "b1780f67",
   "metadata": {},
   "outputs": [],
   "source": [
    "html = driver.page_source\n",
    "soup = BeautifulSoup(html, 'html.parser')\n",
    "\n",
    "\n"
   ]
  },
  {
   "cell_type": "code",
   "execution_count": null,
   "id": "9baffedf",
   "metadata": {},
   "outputs": [],
   "source": [
    "# class_number = input(\"반명은? : \")\n",
    "url = class_dic[class_number]+'/member'\n",
    "# driver.get(url)\n",
    "a = list(class_dic.keys())\n",
    "a"
   ]
  },
  {
   "cell_type": "code",
   "execution_count": null,
   "id": "6c05a663",
   "metadata": {
    "scrolled": true
   },
   "outputs": [],
   "source": [
    "class_dic = {}\n",
    "class_dic['PA3A'] = 'https://band.us/band/84576914'\n",
    "class_dic['PB3A'] = 'https://band.us/band/84576918'\n",
    "class_dic['PD3A'] = 'https://band.us/band/84576926'\n",
    "class_dic['PJ3A'] = 'https://band.us/band/84576928'\n",
    "class_dic['PURPLE'] = 'https://band.us/band/84570800'\n",
    "class_dic['RED'] = 'https://band.us/band/84576846'\n",
    "class_dic['PB7A'] = 'https://band.us/band/84600978'\n",
    "class_dic['PD7A'] = 'https://band.us/band/84601004'\n",
    "\n",
    "\n",
    "# class_number = input(\"반명은? : \")\n",
    "member_list = []\n",
    "for class_number in list(class_dic.keys()):\n",
    "    url = class_dic[class_number]+'/member'\n",
    "    driver.get(url)\n",
    "    time.sleep(2)\n",
    "    \n",
    "    html = driver.page_source\n",
    "    soup = BeautifulSoup(html, 'html.parser')\n",
    "\n",
    "    member = soup.select('span.text.-flex')\n",
    "\n",
    "    for name in member[1:]:\n",
    "        who = name.text\n",
    "        who = who.replace('\\n', \"\")\n",
    "        if class_number == 'PURPLE':\n",
    "            who = who[5:].strip()\n",
    "        where = class_number\n",
    "        member_list.append([where, who])\n",
    "\n",
    "member11 = pd.DataFrame(member_list, columns=['반명', '이름'])\n",
    "member11['이름']=member11['이름'].str.extract(r'([가-힣].*)')\n",
    "member11.to_excel('student_08.xlsx', index=False)"
   ]
  },
  {
   "cell_type": "code",
   "execution_count": null,
   "id": "96d87994",
   "metadata": {},
   "outputs": [],
   "source": [
    "member11['이름']=member11['이름'].str.extract(r'([가-힣].*)')\n",
    "\n",
    "member11"
   ]
  },
  {
   "cell_type": "code",
   "execution_count": null,
   "id": "64dfcbbc",
   "metadata": {},
   "outputs": [],
   "source": [
    "member11.to_excel('student_08.xlsx', index=False)"
   ]
  },
  {
   "cell_type": "code",
   "execution_count": null,
   "id": "0410b663",
   "metadata": {},
   "outputs": [],
   "source": [
    "class_dic = {}\n",
    "class_dic['PA3A'] = 'https://band.us/band/84576914'\n",
    "class_dic['PB3A'] = 'https://band.us/band/84576918'\n",
    "class_dic['PD3A'] = 'https://band.us/band/84576926'\n",
    "class_dic['PJ3A'] = 'https://band.us/band/84576928'\n",
    "class_dic['PURPLE'] = 'https://band.us/band/84570800'\n",
    "class_dic['RED'] = 'https://band.us/band/84576846'\n",
    "class_dic['PB7A'] = 'https://band.us/band/84600978'\n",
    "class_dic['PD7A'] = 'https://band.us/band/84601004'\n"
   ]
  },
  {
   "cell_type": "code",
   "execution_count": null,
   "id": "a0804fa3",
   "metadata": {},
   "outputs": [],
   "source": [
    "driver.add"
   ]
  },
  {
   "cell_type": "code",
   "execution_count": null,
   "id": "daff191b",
   "metadata": {},
   "outputs": [],
   "source": [
    "s = requests.Session()"
   ]
  },
  {
   "cell_type": "code",
   "execution_count": null,
   "id": "ee3b2120",
   "metadata": {},
   "outputs": [],
   "source": [
    "headers = {\n",
    "    'User-Agent' : 'Mozilla/5.0 (Windows NT 10.0; Win64; x64) AppleWebKit/537.36 (KHTML, like Gecko) Chrome/92.0.4515.159 Safari/537.36'\n",
    "}\n",
    "s.headers.update(headers)"
   ]
  },
  {
   "cell_type": "code",
   "execution_count": null,
   "id": "5209d103",
   "metadata": {},
   "outputs": [],
   "source": [
    "for cookie in driver.get_cookies():\n",
    "    c = {cookie['name'] : cookie['value']}\n",
    "    s.cookies.update(c)"
   ]
  },
  {
   "cell_type": "code",
   "execution_count": null,
   "id": "272e8a39",
   "metadata": {},
   "outputs": [],
   "source": [
    "s.cookies\n"
   ]
  },
  {
   "cell_type": "code",
   "execution_count": null,
   "id": "da738526",
   "metadata": {},
   "outputs": [],
   "source": [
    "response = s.get('https://band.us/band/84576914/hashtag/PDS%EB%B3%B5%EC%8A%B532%EC%B0%A8')\n",
    "soup = BeautifulSoup(response.text, 'lxml')\n",
    "soup"
   ]
  },
  {
   "cell_type": "code",
   "execution_count": null,
   "id": "53a57477",
   "metadata": {},
   "outputs": [],
   "source": [
    "for cookie in driver.get_cookies():\n",
    "    driver.add_cookie(c)"
   ]
  },
  {
   "cell_type": "code",
   "execution_count": null,
   "id": "3f611067",
   "metadata": {},
   "outputs": [],
   "source": [
    "cks = driver.get_cookies()\n",
    "cks"
   ]
  },
  {
   "cell_type": "code",
   "execution_count": null,
   "id": "2edc157d",
   "metadata": {},
   "outputs": [],
   "source": []
  }
 ],
 "metadata": {
  "kernelspec": {
   "display_name": "Python 3",
   "language": "python",
   "name": "python3"
  },
  "language_info": {
   "codemirror_mode": {
    "name": "ipython",
    "version": 3
   },
   "file_extension": ".py",
   "mimetype": "text/x-python",
   "name": "python",
   "nbconvert_exporter": "python",
   "pygments_lexer": "ipython3",
   "version": "3.8.8"
  },
  "toc": {
   "base_numbering": "1",
   "nav_menu": {},
   "number_sections": true,
   "sideBar": true,
   "skip_h1_title": false,
   "title_cell": "Table of Contents",
   "title_sidebar": "Contents",
   "toc_cell": true,
   "toc_position": {
    "height": "calc(100% - 180px)",
    "left": "10px",
    "top": "150px",
    "width": "249.594px"
   },
   "toc_section_display": true,
   "toc_window_display": true
  }
 },
 "nbformat": 4,
 "nbformat_minor": 5
}
