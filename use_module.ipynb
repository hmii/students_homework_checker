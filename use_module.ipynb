{
 "cells": [
  {
   "cell_type": "code",
   "execution_count": 1,
   "id": "cd27b6c9",
   "metadata": {},
   "outputs": [],
   "source": [
    "import pandas as pd\n",
    "from homework import Homework, Export\n",
    "from selenium import webdriver\n",
    "import makedic as md"
   ]
  },
  {
   "cell_type": "code",
   "execution_count": 12,
   "id": "58c78720",
   "metadata": {
    "scrolled": true
   },
   "outputs": [
    {
     "name": "stdout",
     "output_type": "stream",
     "text": [
      "['PB3A', 'PD3A', 'PJ3A', 'SB3S', 'SD3A']\n"
     ]
    },
    {
     "data": {
      "text/html": [
       "<div>\n",
       "<style scoped>\n",
       "    .dataframe tbody tr th:only-of-type {\n",
       "        vertical-align: middle;\n",
       "    }\n",
       "\n",
       "    .dataframe tbody tr th {\n",
       "        vertical-align: top;\n",
       "    }\n",
       "\n",
       "    .dataframe thead th {\n",
       "        text-align: right;\n",
       "    }\n",
       "</style>\n",
       "<table border=\"1\" class=\"dataframe\">\n",
       "  <thead>\n",
       "    <tr style=\"text-align: right;\">\n",
       "      <th></th>\n",
       "      <th>tag</th>\n",
       "      <th>PB3A</th>\n",
       "      <th>PD3A</th>\n",
       "      <th>PJ3A</th>\n",
       "      <th>SB3S</th>\n",
       "      <th>SD3A</th>\n",
       "    </tr>\n",
       "  </thead>\n",
       "  <tbody>\n",
       "    <tr>\n",
       "      <th>0</th>\n",
       "      <td>V</td>\n",
       "      <td>1</td>\n",
       "      <td>1</td>\n",
       "      <td>0</td>\n",
       "      <td>2</td>\n",
       "      <td>2</td>\n",
       "    </tr>\n",
       "    <tr>\n",
       "      <th>1</th>\n",
       "      <td>W</td>\n",
       "      <td>2</td>\n",
       "      <td>2</td>\n",
       "      <td>0</td>\n",
       "      <td>2</td>\n",
       "      <td>2</td>\n",
       "    </tr>\n",
       "    <tr>\n",
       "      <th>2</th>\n",
       "      <td>R+</td>\n",
       "      <td>0</td>\n",
       "      <td>0</td>\n",
       "      <td>0</td>\n",
       "      <td>1</td>\n",
       "      <td>1</td>\n",
       "    </tr>\n",
       "  </tbody>\n",
       "</table>\n",
       "</div>"
      ],
      "text/plain": [
       "  tag  PB3A  PD3A  PJ3A  SB3S  SD3A\n",
       "0   V     1     1     0     2     2\n",
       "1   W     2     2     0     2     2\n",
       "2  R+     0     0     0     1     1"
      ]
     },
     "execution_count": 12,
     "metadata": {},
     "output_type": "execute_result"
    }
   ],
   "source": [
    "start_month = 3 #월부터 시작\n",
    "week = 2 #주차\n",
    "pre = week-1\n",
    "tag_file = f'2022_{start_month}_{week}주차.xlsx'\n",
    "\n",
    "def tag_df_preprocessing(file):\n",
    "    df = pd.read_excel(file, sheet_name = 'sheet')\n",
    "    df.dropna(axis=0, inplace=True)\n",
    "    return df\n",
    "\n",
    "addr = pd.read_excel('band_address.xlsx')\n",
    "class_dic = md.make_class_dic(addr, 2022, start_month=start_month) \n",
    "class_select = list(class_dic.keys())\n",
    "print(class_select)\n",
    "\n",
    "tag_df = tag_df_preprocessing(tag_file)\n",
    "tag_df\n"
   ]
  },
  {
   "cell_type": "code",
   "execution_count": 13,
   "id": "47fe42f6",
   "metadata": {},
   "outputs": [
    {
     "data": {
      "text/plain": [
       "['PB3A', 'PD3A', 'PJ3A', 'SB3S', 'SD3A']"
      ]
     },
     "execution_count": 13,
     "metadata": {},
     "output_type": "execute_result"
    }
   ],
   "source": [
    "class_select = class_select\n",
    "class_select"
   ]
  },
  {
   "cell_type": "code",
   "execution_count": 16,
   "id": "50ea08b6",
   "metadata": {},
   "outputs": [],
   "source": [
    "a = Homework()\n",
    "a.setting(class_dic, week)"
   ]
  },
  {
   "cell_type": "code",
   "execution_count": 17,
   "id": "6745dcc2",
   "metadata": {},
   "outputs": [],
   "source": [
    "# 명단가져오기\n",
    "for class_id in class_select:\n",
    "    a.get_member_info(class_id)\n",
    "a.export_member_info()"
   ]
  },
  {
   "cell_type": "code",
   "execution_count": 20,
   "id": "494ecd18",
   "metadata": {},
   "outputs": [
    {
     "name": "stdout",
     "output_type": "stream",
     "text": [
      "  PD3A\n",
      "0   김건\n",
      "1  심경보\n",
      "2     \n",
      "PD3A 김건\n",
      "PD3A 심경보\n"
     ]
    }
   ],
   "source": [
    "# 명단지우기 \n",
    "wo = pd.read_excel(tag_file_name, sheet_name = 'WO')\n",
    "wo = wo.dropna(axis =1)\n",
    "\n",
    "for wo_class in list(wo.columns):\n",
    "    for wo_name in wo[wo[wo_class].apply(len) > 1][wo_class]:\n",
    "        print(wo_class, wo_name)\n",
    "        a.drop_member_info(wo_class, wo_name)"
   ]
  },
  {
   "cell_type": "code",
   "execution_count": 18,
   "id": "eda51ce4",
   "metadata": {},
   "outputs": [
    {
     "name": "stdout",
     "output_type": "stream",
     "text": [
      "PB3A V-2-1 댓글 수:  33 33\n",
      "PB3A W-2-1 댓글 수:  36 36\n",
      "PB3A W-2-2 댓글 수:  36 36\n",
      "PD3A V-2-1 댓글 수:  18 18\n",
      "PD3A W-2-1 댓글 수:  19 19\n",
      "PD3A W-2-2 댓글 수:  19 19\n",
      "SB3S V-2-1 댓글 수:  31 31\n",
      "SB3S V-2-2 댓글 수:  32 32\n",
      "SB3S W-2-1 댓글 수:  32 32\n",
      "SB3S W-2-2 댓글 수:  34 34\n",
      "SD3A V-2-1 댓글 수:  36 36\n",
      "SD3A V-2-2 댓글 수:  37 37\n",
      "SD3A W-2-1 댓글 수:  41 41\n",
      "SD3A W-2-2 댓글 수:  36 36\n"
     ]
    }
   ],
   "source": [
    "# 댓글 긁어오기\n",
    "for class_id in class_select:\n",
    "    for i, j in zip(tag_df['tag'], tag_df[class_id]):\n",
    "        if not i[-1] == \"+\"  : \n",
    "            a.making_comment_tag_list(i, j)\n",
    "        else :\n",
    "            a.making_excel_tag_list(i, j)\n",
    "    a.export_excel(class_id)\n",
    "    a.comment_tag = []\n",
    "    a.excel_tag = []"
   ]
  },
  {
   "cell_type": "code",
   "execution_count": 21,
   "id": "323372b1",
   "metadata": {},
   "outputs": [],
   "source": [
    "# 엑셀 합치기 \n",
    "\n",
    "with pd.ExcelWriter(f'{week}주차_comment.xlsx') as writer:  \n",
    "    for class_id in class_select:\n",
    "        df = Export(class_id, week, pre).heart()\n",
    "        df.to_excel(writer, sheet_name=f'{class_id}', index=False)"
   ]
  },
  {
   "cell_type": "code",
   "execution_count": null,
   "id": "990da7e7",
   "metadata": {},
   "outputs": [],
   "source": []
  }
 ],
 "metadata": {
  "kernelspec": {
   "display_name": "Python 3",
   "language": "python",
   "name": "python3"
  },
  "language_info": {
   "codemirror_mode": {
    "name": "ipython",
    "version": 3
   },
   "file_extension": ".py",
   "mimetype": "text/x-python",
   "name": "python",
   "nbconvert_exporter": "python",
   "pygments_lexer": "ipython3",
   "version": "3.8.8"
  },
  "toc": {
   "base_numbering": 1,
   "nav_menu": {},
   "number_sections": true,
   "sideBar": true,
   "skip_h1_title": false,
   "title_cell": "Table of Contents",
   "title_sidebar": "Contents",
   "toc_cell": false,
   "toc_position": {},
   "toc_section_display": true,
   "toc_window_display": false
  }
 },
 "nbformat": 4,
 "nbformat_minor": 5
}
