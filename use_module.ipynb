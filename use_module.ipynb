{
 "cells": [
  {
   "cell_type": "code",
   "execution_count": 1,
   "id": "cd27b6c9",
   "metadata": {},
   "outputs": [],
   "source": [
    "import pandas as pd\n",
    "from homework import Homework, Export\n",
    "from selenium import webdriver"
   ]
  },
  {
   "cell_type": "code",
   "execution_count": 2,
   "id": "a408b949",
   "metadata": {},
   "outputs": [],
   "source": [
    "driver = webdriver.Chrome('./chromedriver')\n",
    "driver.implicitly_wait(10)\n",
    "driver.get('https://nid.naver.com/oauth2.0/authorize?svctype=0&response_type=code&client_id=C9hwybENgOtF&state=IWK3A3NUJQVTFVU2KJPK2DRAZ6L7OXGBFYZHHTH3GMTTXKI6A6ALVCF6SFNE3OLHQ4JVWLE6HFC7Q===&redirect_url=https%3A%2F%2Fauth.band.us%2Fexternal_account_login%3Ftype%3Dnaver')"
   ]
  },
  {
   "cell_type": "code",
   "execution_count": 11,
   "id": "91953dcd",
   "metadata": {},
   "outputs": [],
   "source": [
    "class_dic = {}\n",
    "class_dic['PA3A'] = 'https://band.us/band/85178180'\n",
    "class_dic['PB3A'] = 'https://band.us/band/85178672'\n",
    "class_dic['PD3A'] = 'https://band.us/band/85186142'\n",
    "class_dic['PJ3A'] = 'https://band.us/band/85186150'\n",
    "class_dic['PURPLE'] = 'https://band.us/band/85186110'\n",
    "class_dic['RED'] = 'https://band.us/band/85186132'\n",
    "class_dic['PDEE'] = 'https://band.us/band/85736114' # 11~12월\n",
    "# class_dic['PDEE'] = 'https://band.us/band/85237203' # 9~10월\n",
    "# class_dic['WSCN'] = 'https://band.us/band/85232892'\n",
    "# class_dic['PSCN'] = 'https://band.us/band/85275199'\n",
    "\n",
    "class_ids = list(class_dic.keys())"
   ]
  },
  {
   "cell_type": "code",
   "execution_count": 21,
   "id": "f55dc79e",
   "metadata": {},
   "outputs": [
    {
     "data": {
      "text/plain": [
       "['PA3A']"
      ]
     },
     "execution_count": 21,
     "metadata": {},
     "output_type": "execute_result"
    }
   ],
   "source": [
    "class_select = class_ids[0:1]\n",
    "class_select"
   ]
  },
  {
   "cell_type": "code",
   "execution_count": 15,
   "id": "50ea08b6",
   "metadata": {},
   "outputs": [],
   "source": [
    "# 입력하세요 ----------\n",
    "month, week = 11, 1\n",
    "# -------------------\n",
    "\n",
    "a = Homework()\n",
    "a.setting(class_dic, driver, month, week)"
   ]
  },
  {
   "cell_type": "code",
   "execution_count": 16,
   "id": "6745dcc2",
   "metadata": {},
   "outputs": [],
   "source": [
    "# 명단가져오기\n",
    "for class_id in class_ids:\n",
    "    a.get_member_info(class_id)\n",
    "a.export_member_info()"
   ]
  },
  {
   "cell_type": "code",
   "execution_count": 22,
   "id": "512ed6dc",
   "metadata": {},
   "outputs": [
    {
     "name": "stdout",
     "output_type": "stream",
     "text": [
      "PA3A p-11-1-1 댓글 수:  33\n",
      "-------------------- 33\n",
      "PA3A p-11-1-2 댓글 수:  34\n",
      "-------------------- 34\n",
      "PA3A p-11-1-3 댓글 수:  33\n",
      "-------------------- 33\n",
      "PA3A p-11-1-4 댓글 수:  31\n",
      "-------------------- 31\n",
      "PA3A p-11-1-5 댓글 수:  29\n",
      "-------------------- 29\n",
      "PA3A v-11-1-1 댓글 수:  33\n",
      "-------------------- 33\n",
      "PA3A v-11-1-2 댓글 수:  33\n",
      "-------------------- 33\n"
     ]
    }
   ],
   "source": [
    "# 정규 반\n",
    "for class_id in class_select:\n",
    "    tags = a.pds_tag(5) \\\n",
    "         + a.voca_tag(2) \n",
    "#          + a.pareto_tag()\n",
    "#     test_tag = a.test_tag()\n",
    "    a.export_excel(class_id, tags, test_tag=0)"
   ]
  },
  {
   "cell_type": "code",
   "execution_count": 24,
   "id": "d673c4c7",
   "metadata": {},
   "outputs": [
    {
     "name": "stdout",
     "output_type": "stream",
     "text": [
      "PDEE p-11-1-1 댓글 수:  13\n",
      "-------------------- 13\n",
      "PDEE p-11-1-2 댓글 수:  13\n",
      "-------------------- 13\n"
     ]
    }
   ],
   "source": [
    "# PDEE\n",
    "for class_id in ['PDEE']:\n",
    "    tags = a.pds_tag(2) \\\n",
    "#          + a.voca_tag(2) \\\n",
    "#          + a.pareto_tag()\n",
    "#    test_tag = a.test_tag()\n",
    "    a.export_excel(class_id, tags, test_tag=0)"
   ]
  },
  {
   "cell_type": "code",
   "execution_count": 13,
   "id": "34a9b94c",
   "metadata": {},
   "outputs": [
    {
     "name": "stdout",
     "output_type": "stream",
     "text": [
      "WSCN s-10-4-1 댓글 수:  16\n",
      "-------------------- 16\n",
      "WSCN s-10-4-2 댓글 수:  16\n",
      "-------------------- 16\n",
      "PSCN s-10-4-1 댓글 수:  10\n",
      "-------------------- 10\n",
      "PSCN s-10-4-2 댓글 수:  10\n",
      "-------------------- 10\n"
     ]
    }
   ],
   "source": [
    "# 특강 반 \n",
    "for class_id in class_ids[-2:]:\n",
    "    tags = a.special_tag(2)\n",
    "    test_tag = 0\n",
    "    a.export_excel(class_id, tags, test_tag)"
   ]
  },
  {
   "cell_type": "code",
   "execution_count": 26,
   "id": "323372b1",
   "metadata": {},
   "outputs": [],
   "source": [
    "# 입력하세요 ----------\n",
    "month, week = 11, 1\n",
    "# -------------------\n",
    "\n",
    "pre = 5\n",
    "\n",
    "with pd.ExcelWriter(f'{week}주차_comment.xlsx') as writer:  \n",
    "    for class_id in class_ids[:7]:\n",
    "        df = Export(class_id, month, week, pre).heart()\n",
    "        df.to_excel(writer, sheet_name=f'{class_id}', index=False)"
   ]
  },
  {
   "cell_type": "code",
   "execution_count": null,
   "id": "12dfcf21",
   "metadata": {},
   "outputs": [],
   "source": []
  }
 ],
 "metadata": {
  "kernelspec": {
   "display_name": "Python 3",
   "language": "python",
   "name": "python3"
  },
  "language_info": {
   "codemirror_mode": {
    "name": "ipython",
    "version": 3
   },
   "file_extension": ".py",
   "mimetype": "text/x-python",
   "name": "python",
   "nbconvert_exporter": "python",
   "pygments_lexer": "ipython3",
   "version": "3.8.8"
  },
  "toc": {
   "base_numbering": 1,
   "nav_menu": {},
   "number_sections": true,
   "sideBar": true,
   "skip_h1_title": false,
   "title_cell": "Table of Contents",
   "title_sidebar": "Contents",
   "toc_cell": false,
   "toc_position": {},
   "toc_section_display": true,
   "toc_window_display": false
  }
 },
 "nbformat": 4,
 "nbformat_minor": 5
}
